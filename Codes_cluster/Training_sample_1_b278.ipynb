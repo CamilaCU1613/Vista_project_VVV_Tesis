{
 "cells": [
  {
   "cell_type": "code",
   "execution_count": 1,
   "id": "e7282cca",
   "metadata": {},
   "outputs": [],
   "source": [
    "import pandas as pd\n",
    "from astropy.io import fits\n",
    "import numpy as np\n",
    "import matplotlib.pyplot as plt\n",
    "import random\n",
    "from scipy.optimize import curve_fit\n",
    "from astropy.timeseries import LombScargle\n",
    "from scipy.signal import find_peaks\n",
    "import os"
   ]
  },
  {
   "cell_type": "code",
   "execution_count": 2,
   "id": "d7f3315e",
   "metadata": {},
   "outputs": [],
   "source": [
    "archivo1 = fits.open('Medias-Desviacion278.fits')\n",
    "series_ks_n_filtrado=np.array(archivo1[9].data)\n",
    "errores_ks_n_filtrado=np.array(archivo1[10].data)\n",
    "archivo = fits.open('TCampob278.fits')\n",
    "HJD=archivo[1].data\n",
    "archivo2= fits.open('PVariablesb2783.fits')\n",
    "archivo3= fits.open('PVariablesb2782.fits')\n",
    "series_eliminar=np.array(archivo2[1].data)\n",
    "series_eliminar1=np.array(archivo3[1].data)"
   ]
  },
  {
   "cell_type": "code",
   "execution_count": null,
   "id": "8ec97f8f",
   "metadata": {},
   "outputs": [],
   "source": [
    "def seleccionar_subarrays_aleatorios(series, errores, cantidad, series_eliminar):\n",
    "    subarrays_elegidos = []\n",
    "    errores_elegidos = []\n",
    "    \n",
    "    while len(subarrays_elegidos) < cantidad:\n",
    "        indice_aleatorio = random.randint(0, len(series) - 1)\n",
    "        if indice_aleatorio not in series_eliminar:\n",
    "            if indice_aleatorio not in series_eliminar1:\n",
    "                subarrays_elegidos.append(series[indice_aleatorio])\n",
    "                errores_elegidos.append(errores[indice_aleatorio])\n",
    "    \n",
    "    return subarrays_elegidos, errores_elegidos\n",
    "\n",
    "cantidad_subarrays = 100000\n",
    "ks_aleatorios, errores_aleatorios = seleccionar_subarrays_aleatorios(series_ks_n_filtrado, errores_ks_n_filtrado, cantidad_subarrays, series_eliminar)\n",
    "print(len(ks_aleatorios))"
   ]
  },
  {
   "cell_type": "code",
   "execution_count": null,
   "id": "9c07d411",
   "metadata": {},
   "outputs": [],
   "source": []
  }
 ],
 "metadata": {
  "kernelspec": {
   "display_name": "Python 3 (ipykernel)",
   "language": "python",
   "name": "python3"
  },
  "language_info": {
   "codemirror_mode": {
    "name": "ipython",
    "version": 3
   },
   "file_extension": ".py",
   "mimetype": "text/x-python",
   "name": "python",
   "nbconvert_exporter": "python",
   "pygments_lexer": "ipython3",
   "version": "3.11.5"
  }
 },
 "nbformat": 4,
 "nbformat_minor": 5
}
